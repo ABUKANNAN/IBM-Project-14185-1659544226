{
  "cells": [
    {
      "cell_type": "markdown",
      "id": "6016dd3d",
      "metadata": {
        "id": "6016dd3d"
      },
      "source": [
        "# Assignment 4\n",
        "# Customer Segmentation Analysis\n",
        "\n",
        "\n",
        "## Problem Statement:-\n",
        "You own the mall and want to understand the customers who can quickly converge [Target Customers] so that the insight can be given to the marketing team and plan the strategy accordingly.\n",
        "\n",
        "\n",
        "\n",
        "\n",
        "## Clustering the data and performing classification algorithms\n"
      ]
    },
    {
      "cell_type": "markdown",
      "id": "717ccc1b",
      "metadata": {
        "id": "717ccc1b"
      },
      "source": [
        "## 1. Perform Below Visualizations.\n",
        "### Univariate Analysis\n",
        "#### 1. Summary Statistics"
      ]
    },
    {
      "cell_type": "code",
      "execution_count": null,
      "id": "19c48fa6",
      "metadata": {
        "id": "19c48fa6"
      },
      "outputs": [],
      "source": [
        "import pandas as pd\n",
        "import numpy as np\n",
        "import matplotlib.pyplot as plt\n",
        "import seaborn as sns\n",
        "import statsmodels.api as sm"
      ]
    },
    {
      "cell_type": "code",
      "execution_count": null,
      "id": "01105cab",
      "metadata": {
        "id": "01105cab",
        "outputId": "ced00e5e-1903-4afa-a97a-e4c08cdcd6c5"
      },
      "outputs": [
        {
          "data": {
            "text/html": [
              "<div>\n",
              "<style scoped>\n",
              "    .dataframe tbody tr th:only-of-type {\n",
              "        vertical-align: middle;\n",
              "    }\n",
              "\n",
              "    .dataframe tbody tr th {\n",
              "        vertical-align: top;\n",
              "    }\n",
              "\n",
              "    .dataframe thead th {\n",
              "        text-align: right;\n",
              "    }\n",
              "</style>\n",
              "<table border=\"1\" class=\"dataframe\">\n",
              "  <thead>\n",
              "    <tr style=\"text-align: right;\">\n",
              "      <th></th>\n",
              "      <th>CustomerID</th>\n",
              "      <th>Gender</th>\n",
              "      <th>Age</th>\n",
              "      <th>Annual Income (k$)</th>\n",
              "      <th>Spending Score (1-100)</th>\n",
              "    </tr>\n",
              "  </thead>\n",
              "  <tbody>\n",
              "    <tr>\n",
              "      <th>0</th>\n",
              "      <td>1</td>\n",
              "      <td>Male</td>\n",
              "      <td>19</td>\n",
              "      <td>15</td>\n",
              "      <td>39</td>\n",
              "    </tr>\n",
              "    <tr>\n",
              "      <th>1</th>\n",
              "      <td>2</td>\n",
              "      <td>Male</td>\n",
              "      <td>21</td>\n",
              "      <td>15</td>\n",
              "      <td>81</td>\n",
              "    </tr>\n",
              "    <tr>\n",
              "      <th>2</th>\n",
              "      <td>3</td>\n",
              "      <td>Female</td>\n",
              "      <td>20</td>\n",
              "      <td>16</td>\n",
              "      <td>6</td>\n",
              "    </tr>\n",
              "    <tr>\n",
              "      <th>3</th>\n",
              "      <td>4</td>\n",
              "      <td>Female</td>\n",
              "      <td>23</td>\n",
              "      <td>16</td>\n",
              "      <td>77</td>\n",
              "    </tr>\n",
              "    <tr>\n",
              "      <th>4</th>\n",
              "      <td>5</td>\n",
              "      <td>Female</td>\n",
              "      <td>31</td>\n",
              "      <td>17</td>\n",
              "      <td>40</td>\n",
              "    </tr>\n",
              "    <tr>\n",
              "      <th>...</th>\n",
              "      <td>...</td>\n",
              "      <td>...</td>\n",
              "      <td>...</td>\n",
              "      <td>...</td>\n",
              "      <td>...</td>\n",
              "    </tr>\n",
              "    <tr>\n",
              "      <th>195</th>\n",
              "      <td>196</td>\n",
              "      <td>Female</td>\n",
              "      <td>35</td>\n",
              "      <td>120</td>\n",
              "      <td>79</td>\n",
              "    </tr>\n",
              "    <tr>\n",
              "      <th>196</th>\n",
              "      <td>197</td>\n",
              "      <td>Female</td>\n",
              "      <td>45</td>\n",
              "      <td>126</td>\n",
              "      <td>28</td>\n",
              "    </tr>\n",
              "    <tr>\n",
              "      <th>197</th>\n",
              "      <td>198</td>\n",
              "      <td>Male</td>\n",
              "      <td>32</td>\n",
              "      <td>126</td>\n",
              "      <td>74</td>\n",
              "    </tr>\n",
              "    <tr>\n",
              "      <th>198</th>\n",
              "      <td>199</td>\n",
              "      <td>Male</td>\n",
              "      <td>32</td>\n",
              "      <td>137</td>\n",
              "      <td>18</td>\n",
              "    </tr>\n",
              "    <tr>\n",
              "      <th>199</th>\n",
              "      <td>200</td>\n",
              "      <td>Male</td>\n",
              "      <td>30</td>\n",
              "      <td>137</td>\n",
              "      <td>83</td>\n",
              "    </tr>\n",
              "  </tbody>\n",
              "</table>\n",
              "<p>200 rows × 5 columns</p>\n",
              "</div>"
            ],
            "text/plain": [
              "     CustomerID  Gender  Age  Annual Income (k$)  Spending Score (1-100)\n",
              "0             1    Male   19                  15                      39\n",
              "1             2    Male   21                  15                      81\n",
              "2             3  Female   20                  16                       6\n",
              "3             4  Female   23                  16                      77\n",
              "4             5  Female   31                  17                      40\n",
              "..          ...     ...  ...                 ...                     ...\n",
              "195         196  Female   35                 120                      79\n",
              "196         197  Female   45                 126                      28\n",
              "197         198    Male   32                 126                      74\n",
              "198         199    Male   32                 137                      18\n",
              "199         200    Male   30                 137                      83\n",
              "\n",
              "[200 rows x 5 columns]"
            ]
          },
          "execution_count": 239,
          "metadata": {},
          "output_type": "execute_result"
        }
      ],
      "source": [
        "file_data = pd.read_csv('C:Downloads/Mall_Customers.csv')\n",
        "file_data"
      ]
    },
    {
      "cell_type": "code",
      "execution_count": null,
      "id": "cdd604b1",
      "metadata": {
        "id": "cdd604b1",
        "outputId": "12da5580-384b-4baf-dfd8-f08f225ae359"
      },
      "outputs": [
        {
          "data": {
            "text/plain": [
              "38.85"
            ]
          },
          "execution_count": 240,
          "metadata": {},
          "output_type": "execute_result"
        }
      ],
      "source": [
        "file_data['Age'].mean()"
      ]
    },
    {
      "cell_type": "code",
      "execution_count": null,
      "id": "1b444cfb",
      "metadata": {
        "id": "1b444cfb",
        "outputId": "14405670-9471-42e5-884e-e1afef4dc932"
      },
      "outputs": [
        {
          "data": {
            "text/plain": [
              "36.0"
            ]
          },
          "execution_count": 241,
          "metadata": {},
          "output_type": "execute_result"
        }
      ],
      "source": [
        "file_data['Age'].median()"
      ]
    },
    {
      "cell_type": "code",
      "execution_count": null,
      "id": "827a51fc",
      "metadata": {
        "id": "827a51fc",
        "outputId": "be899565-081f-4a48-d774-52aae32785b5"
      },
      "outputs": [
        {
          "data": {
            "text/plain": [
              "13.969007331558883"
            ]
          },
          "execution_count": 242,
          "metadata": {},
          "output_type": "execute_result"
        }
      ],
      "source": [
        "file_data['Age'].std()"
      ]
    },
    {
      "cell_type": "markdown",
      "id": "0376c8ac",
      "metadata": {
        "id": "0376c8ac"
      },
      "source": [
        "#### 2. Frequency Table"
      ]
    },
    {
      "cell_type": "code",
      "execution_count": null,
      "id": "828e96c3",
      "metadata": {
        "id": "828e96c3",
        "outputId": "60bc0846-21a2-4ffe-9f19-2efeda5c2f80"
      },
      "outputs": [
        {
          "data": {
            "text/plain": [
              "54     12\n",
              "78     12\n",
              "48      6\n",
              "71      6\n",
              "63      6\n",
              "       ..\n",
              "58      2\n",
              "59      2\n",
              "16      2\n",
              "64      2\n",
              "137     2\n",
              "Name: Annual Income (k$), Length: 64, dtype: int64"
            ]
          },
          "execution_count": 243,
          "metadata": {},
          "output_type": "execute_result"
        }
      ],
      "source": [
        "file_data['Annual Income (k$)'].value_counts()"
      ]
    },
    {
      "cell_type": "markdown",
      "id": "accc0e74",
      "metadata": {
        "id": "accc0e74"
      },
      "source": [
        "#### 3. Create Charts"
      ]
    },
    {
      "cell_type": "code",
      "execution_count": null,
      "id": "a9803069",
      "metadata": {
        "id": "a9803069",
        "outputId": "11e05677-01dd-4143-c45e-b8299cd0aaea"
      },
      "outputs": [
        {
          "data": {
            "text/plain": [
              "<AxesSubplot:>"
            ]
          },
          "execution_count": 244,
          "metadata": {},
          "output_type": "execute_result"
        },
        {
          "data": {
            "image/png": "[encoded data removed]",
            "text/plain": [
              "<Figure size 432x288 with 1 Axes>"
            ]
          },
          "metadata": {
            "needs_background": "light"
          },
          "output_type": "display_data"
        }
      ],
      "source": [
        "file_data.boxplot(column=['Age'], grid=False)\n"
      ]
    },
    {
      "cell_type": "code",
      "execution_count": null,
      "id": "815daa4c",
      "metadata": {
        "id": "815daa4c",
        "outputId": "12ba804e-cc80-435d-b5c4-bbfdac93a85c"
      },
      "outputs": [
        {
          "data": {
            "text/plain": [
              "array([[<AxesSubplot:title={'center':'Age'}>]], dtype=object)"
            ]
          },
          "execution_count": 245,
          "metadata": {},
          "output_type": "execute_result"
        },
        {
          "data": {
            "image/png": "[encoded data removed]",
            "text/plain": [
              "<Figure size 432x288 with 1 Axes>"
            ]
          },
          "metadata": {
            "needs_background": "light"
          },
          "output_type": "display_data"
        }
      ],
      "source": [
        "file_data.hist(column='Age', grid=False, edgecolor='Red')"
      ]
    },
    {
      "cell_type": "code",
      "execution_count": null,
      "id": "a698398a",
      "metadata": {
        "id": "a698398a",
        "outputId": "75fe676f-82d2-4e0e-fdbb-251d1422492e"
      },
      "outputs": [
        {
          "data": {
            "text/plain": [
              "<AxesSubplot:xlabel='Age', ylabel='Density'>"
            ]
          },
          "execution_count": 246,
          "metadata": {},
          "output_type": "execute_result"
        },
        {
          "data": {
            "image/png": "[encoded data removed]",
            "text/plain": [
              "<Figure size 432x288 with 1 Axes>"
            ]
          },
          "metadata": {
            "needs_background": "light"
          },
          "output_type": "display_data"
        }
      ],
      "source": [
        "sns.kdeplot(file_data['Age'])"
      ]
    },
    {
      "cell_type": "markdown",
      "id": "333db4b1",
      "metadata": {
        "id": "333db4b1"
      },
      "source": [
        "### Bi - Variate Analysis"
      ]
    },
    {
      "cell_type": "markdown",
      "id": "87e3a8d3",
      "metadata": {
        "id": "87e3a8d3"
      },
      "source": [
        "#### 1. Scatterplots"
      ]
    },
    {
      "cell_type": "code",
      "execution_count": null,
      "id": "0e09d504",
      "metadata": {
        "id": "0e09d504",
        "outputId": "0bde0d56-a259-4d6b-acb2-ceaaf755804c"
      },
      "outputs": [
        {
          "data": {
            "text/plain": [
              "Text(0, 0.5, 'Age')"
            ]
          },
          "execution_count": 247,
          "metadata": {},
          "output_type": "execute_result"
        },
        {
          "data": {
            "image/png": "[encoded data removed]",
            "text/plain": [
              "<Figure size 432x288 with 1 Axes>"
            ]
          },
          "metadata": {
            "needs_background": "light"
          },
          "output_type": "display_data"
        }
      ],
      "source": [
        "plt.scatter(x=file_data[\"Annual Income (k$)\"].head(100), y=file_data.Age.head(100))\n",
        "plt.title('Scatter')\n",
        "plt.xlabel('Annual Income')\n",
        "plt.ylabel('Age')"
      ]
    },
    {
      "cell_type": "markdown",
      "id": "a3053dcd",
      "metadata": {
        "id": "a3053dcd"
      },
      "source": [
        "#### 2. Correlation Coefficients"
      ]
    },
    {
      "cell_type": "code",
      "execution_count": null,
      "id": "6e94ddc0",
      "metadata": {
        "id": "6e94ddc0",
        "outputId": "6cc1537f-ffeb-4dba-a6f0-c4003fce0b05"
      },
      "outputs": [
        {
          "data": {
            "text/html": [
              "<div>\n",
              "<style scoped>\n",
              "    .dataframe tbody tr th:only-of-type {\n",
              "        vertical-align: middle;\n",
              "    }\n",
              "\n",
              "    .dataframe tbody tr th {\n",
              "        vertical-align: top;\n",
              "    }\n",
              "\n",
              "    .dataframe thead th {\n",
              "        text-align: right;\n",
              "    }\n",
              "</style>\n",
              "<table border=\"1\" class=\"dataframe\">\n",
              "  <thead>\n",
              "    <tr style=\"text-align: right;\">\n",
              "      <th></th>\n",
              "      <th>CustomerID</th>\n",
              "      <th>Age</th>\n",
              "      <th>Annual Income (k$)</th>\n",
              "      <th>Spending Score (1-100)</th>\n",
              "    </tr>\n",
              "  </thead>\n",
              "  <tbody>\n",
              "    <tr>\n",
              "      <th>CustomerID</th>\n",
              "      <td>1.000000</td>\n",
              "      <td>-0.026763</td>\n",
              "      <td>0.977548</td>\n",
              "      <td>0.013835</td>\n",
              "    </tr>\n",
              "    <tr>\n",
              "      <th>Age</th>\n",
              "      <td>-0.026763</td>\n",
              "      <td>1.000000</td>\n",
              "      <td>-0.012398</td>\n",
              "      <td>-0.327227</td>\n",
              "    </tr>\n",
              "    <tr>\n",
              "      <th>Annual Income (k$)</th>\n",
              "      <td>0.977548</td>\n",
              "      <td>-0.012398</td>\n",
              "      <td>1.000000</td>\n",
              "      <td>0.009903</td>\n",
              "    </tr>\n",
              "    <tr>\n",
              "      <th>Spending Score (1-100)</th>\n",
              "      <td>0.013835</td>\n",
              "      <td>-0.327227</td>\n",
              "      <td>0.009903</td>\n",
              "      <td>1.000000</td>\n",
              "    </tr>\n",
              "  </tbody>\n",
              "</table>\n",
              "</div>"
            ],
            "text/plain": [
              "                        CustomerID       Age  Annual Income (k$)  \\\n",
              "CustomerID                1.000000 -0.026763            0.977548   \n",
              "Age                      -0.026763  1.000000           -0.012398   \n",
              "Annual Income (k$)        0.977548 -0.012398            1.000000   \n",
              "Spending Score (1-100)    0.013835 -0.327227            0.009903   \n",
              "\n",
              "                        Spending Score (1-100)  \n",
              "CustomerID                            0.013835  \n",
              "Age                                  -0.327227  \n",
              "Annual Income (k$)                    0.009903  \n",
              "Spending Score (1-100)                1.000000  "
            ]
          },
          "execution_count": 248,
          "metadata": {},
          "output_type": "execute_result"
        }
      ],
      "source": [
        "file_data.corr()"
      ]
    },
    {
      "cell_type": "markdown",
      "id": "4b1557ff",
      "metadata": {
        "id": "4b1557ff"
      },
      "source": [
        "#### 3. Simple Linear Regression"
      ]
    },
    {
      "cell_type": "code",
      "execution_count": null,
      "id": "0d981f49",
      "metadata": {
        "id": "0d981f49",
        "outputId": "1472e544-f5d9-4eb4-9538-eb7f7a797d41"
      },
      "outputs": [
        {
          "data": {
            "text/html": [
              "<table class=\"simpletable\">\n",
              "<caption>OLS Regression Results</caption>\n",
              "<tr>\n",
              "  <th>Dep. Variable:</th>    <td>Annual Income (k$)</td> <th>  R-squared:         </th> <td>   0.000</td>\n",
              "</tr>\n",
              "<tr>\n",
              "  <th>Model:</th>                    <td>OLS</td>        <th>  Adj. R-squared:    </th> <td>  -0.005</td>\n",
              "</tr>\n",
              "<tr>\n",
              "  <th>Method:</th>              <td>Least Squares</td>   <th>  F-statistic:       </th> <td> 0.01942</td>\n",
              "</tr>\n",
              "<tr>\n",
              "  <th>Date:</th>              <td>Thu, 27 Oct 2022</td>  <th>  Prob (F-statistic):</th>  <td> 0.889</td> \n",
              "</tr>\n",
              "<tr>\n",
              "  <th>Time:</th>                  <td>20:49:22</td>      <th>  Log-Likelihood:    </th> <td> -936.92</td>\n",
              "</tr>\n",
              "<tr>\n",
              "  <th>No. Observations:</th>       <td>   200</td>       <th>  AIC:               </th> <td>   1878.</td>\n",
              "</tr>\n",
              "<tr>\n",
              "  <th>Df Residuals:</th>           <td>   198</td>       <th>  BIC:               </th> <td>   1884.</td>\n",
              "</tr>\n",
              "<tr>\n",
              "  <th>Df Model:</th>               <td>     1</td>       <th>                     </th>     <td> </td>   \n",
              "</tr>\n",
              "<tr>\n",
              "  <th>Covariance Type:</th>       <td>nonrobust</td>     <th>                     </th>     <td> </td>   \n",
              "</tr>\n",
              "</table>\n",
              "<table class=\"simpletable\">\n",
              "<tr>\n",
              "             <td></td>               <th>coef</th>     <th>std err</th>      <th>t</th>      <th>P>|t|</th>  <th>[0.025</th>    <th>0.975]</th>  \n",
              "</tr>\n",
              "<tr>\n",
              "  <th>const</th>                  <td>   60.0544</td> <td>    4.078</td> <td>   14.726</td> <td> 0.000</td> <td>   52.012</td> <td>   68.097</td>\n",
              "</tr>\n",
              "<tr>\n",
              "  <th>Spending Score (1-100)</th> <td>    0.0101</td> <td>    0.072</td> <td>    0.139</td> <td> 0.889</td> <td>   -0.132</td> <td>    0.153</td>\n",
              "</tr>\n",
              "</table>\n",
              "<table class=\"simpletable\">\n",
              "<tr>\n",
              "  <th>Omnibus:</th>       <td> 3.510</td> <th>  Durbin-Watson:     </th> <td>   0.005</td>\n",
              "</tr>\n",
              "<tr>\n",
              "  <th>Prob(Omnibus):</th> <td> 0.173</td> <th>  Jarque-Bera (JB):  </th> <td>   3.531</td>\n",
              "</tr>\n",
              "<tr>\n",
              "  <th>Skew:</th>          <td> 0.319</td> <th>  Prob(JB):          </th> <td>   0.171</td>\n",
              "</tr>\n",
              "<tr>\n",
              "  <th>Kurtosis:</th>      <td> 2.875</td> <th>  Cond. No.          </th> <td>    124.</td>\n",
              "</tr>\n",
              "</table><br/><br/>Notes:<br/>[1] Standard Errors assume that the covariance matrix of the errors is correctly specified."
            ],
            "text/plain": [
              "<class 'statsmodels.iolib.summary.Summary'>\n",
              "\"\"\"\n",
              "                            OLS Regression Results                            \n",
              "==============================================================================\n",
              "Dep. Variable:     Annual Income (k$)   R-squared:                       0.000\n",
              "Model:                            OLS   Adj. R-squared:                 -0.005\n",
              "Method:                 Least Squares   F-statistic:                   0.01942\n",
              "Date:                Thu, 27 Oct 2022   Prob (F-statistic):              0.889\n",
              "Time:                        20:49:22   Log-Likelihood:                -936.92\n",
              "No. Observations:                 200   AIC:                             1878.\n",
              "Df Residuals:                     198   BIC:                             1884.\n",
              "Df Model:                           1                                         \n",
              "Covariance Type:            nonrobust                                         \n",
              "==========================================================================================\n",
              "                             coef    std err          t      P>|t|      [0.025      0.975]\n",
              "------------------------------------------------------------------------------------------\n",
              "const                     60.0544      4.078     14.726      0.000      52.012      68.097\n",
              "Spending Score (1-100)     0.0101      0.072      0.139      0.889      -0.132       0.153\n",
              "==============================================================================\n",
              "Omnibus:                        3.510   Durbin-Watson:                   0.005\n",
              "Prob(Omnibus):                  0.173   Jarque-Bera (JB):                3.531\n",
              "Skew:                           0.319   Prob(JB):                        0.171\n",
              "Kurtosis:                       2.875   Cond. No.                         124.\n",
              "==============================================================================\n",
              "\n",
              "Notes:\n",
              "[1] Standard Errors assume that the covariance matrix of the errors is correctly specified.\n",
              "\"\"\""
            ]
          },
          "execution_count": 249,
          "metadata": {},
          "output_type": "execute_result"
        }
      ],
      "source": [
        "y = file_data['Annual Income (k$)']\n",
        "x = file_data['Spending Score (1-100)']\n",
        "x = sm.add_constant(x)\n",
        "model = sm.OLS(y,x).fit()\n",
        "model.summary()"
      ]
    },
    {
      "cell_type": "code",
      "execution_count": null,
      "id": "e73e8b35",
      "metadata": {
        "id": "e73e8b35",
        "outputId": "7ff68158-d8a3-4700-9c9f-4f55735a54de"
      },
      "outputs": [
        {
          "data": {
            "text/plain": [
              "<BarContainer object of 5 artists>"
            ]
          },
          "execution_count": 250,
          "metadata": {},
          "output_type": "execute_result"
        },
        {
          "data": {
            "image/png": "[encoded data removed]",
            "text/plain": [
              "<Figure size 432x288 with 1 Axes>"
            ]
          },
          "metadata": {
            "needs_background": "light"
          },
          "output_type": "display_data"
        }
      ],
      "source": [
        "plt.bar(file_data['Annual Income (k$)'].head() ,file_data['Spending Score (1-100)'].head(),  )\n"
      ]
    },
    {
      "cell_type": "markdown",
      "id": "8bcdbe83",
      "metadata": {
        "id": "8bcdbe83"
      },
      "source": [
        "### Multi - Variate Analysis"
      ]
    },
    {
      "cell_type": "code",
      "execution_count": null,
      "id": "549b6449",
      "metadata": {
        "id": "549b6449",
        "outputId": "b48b4a9d-28f5-411c-b062-4a5127379aae"
      },
      "outputs": [
        {
          "data": {
            "text/plain": [
              "<AxesSubplot:>"
            ]
          },
          "execution_count": 251,
          "metadata": {},
          "output_type": "execute_result"
        },
        {
          "data": {
            "image/png": "[encoded data removed]",
            "text/plain": [
              "<Figure size 864x720 with 2 Axes>"
            ]
          },
          "metadata": {
            "needs_background": "light"
          },
          "output_type": "display_data"
        }
      ],
      "source": [
        "f = plt.subplots(figsize=(12,10))\n",
        "sns.heatmap(file_data.head().corr(), cmap=\"YlGnBu\")"
      ]
    },
    {
      "cell_type": "code",
      "execution_count": null,
      "id": "e166dd37",
      "metadata": {
        "id": "e166dd37",
        "outputId": "24a7cd7a-1c43-4092-8a13-83c97fab2e66"
      },
      "outputs": [
        {
          "data": {
            "text/plain": [
              "<seaborn.matrix.ClusterGrid at 0x1c944e24e80>"
            ]
          },
          "execution_count": 252,
          "metadata": {},
          "output_type": "execute_result"
        },
        {
          "data": {
            "image/png": "[encoded data removed]",
            "text/plain": [
              "<Figure size 720x720 with 4 Axes>"
            ]
          },
          "metadata": {
            "needs_background": "light"
          },
          "output_type": "display_data"
        }
      ],
      "source": [
        "corrmat = file_data.corr(method='spearman')\n",
        "cg = sns.clustermap(corrmat, cmap=\"YlGnBu\", linewidths=0.1);\n",
        "plt.setp(cg.ax_heatmap.yaxis.get_majorticklabels(), rotation=0)\n",
        "cg"
      ]
    },
    {
      "cell_type": "markdown",
      "id": "ef291891",
      "metadata": {
        "id": "ef291891"
      },
      "source": [
        "## 4. Perform descriptive statistics on the dataset.\n"
      ]
    },
    {
      "cell_type": "code",
      "execution_count": null,
      "id": "e11cacda",
      "metadata": {
        "id": "e11cacda",
        "outputId": "d86a4fb1-fe7c-450d-c4e6-afaa63d41ea9"
      },
      "outputs": [
        {
          "data": {
            "text/plain": [
              "(200, 5)"
            ]
          },
          "execution_count": 253,
          "metadata": {},
          "output_type": "execute_result"
        }
      ],
      "source": [
        "file_data.shape"
      ]
    },
    {
      "cell_type": "code",
      "execution_count": null,
      "id": "15bab369",
      "metadata": {
        "id": "15bab369",
        "outputId": "cfff7289-f170-4fb6-e382-b5412f37fded"
      },
      "outputs": [
        {
          "name": "stdout",
          "output_type": "stream",
          "text": [
            "<class 'pandas.core.frame.DataFrame'>\n",
            "RangeIndex: 200 entries, 0 to 199\n",
            "Data columns (total 5 columns):\n",
            " #   Column                  Non-Null Count  Dtype \n",
            "---  ------                  --------------  ----- \n",
            " 0   CustomerID              200 non-null    int64 \n",
            " 1   Gender                  200 non-null    object\n",
            " 2   Age                     200 non-null    int64 \n",
            " 3   Annual Income (k$)      200 non-null    int64 \n",
            " 4   Spending Score (1-100)  200 non-null    int64 \n",
            "dtypes: int64(4), object(1)\n",
            "memory usage: 7.9+ KB\n"
          ]
        }
      ],
      "source": [
        "file_data.info()"
      ]
    },
    {
      "cell_type": "code",
      "execution_count": null,
      "id": "dc49fc58",
      "metadata": {
        "id": "dc49fc58",
        "outputId": "92e2478b-5e06-4005-b482-a2bb3c9b4bc3"
      },
      "outputs": [
        {
          "data": {
            "text/html": [
              "<div>\n",
              "<style scoped>\n",
              "    .dataframe tbody tr th:only-of-type {\n",
              "        vertical-align: middle;\n",
              "    }\n",
              "\n",
              "    .dataframe tbody tr th {\n",
              "        vertical-align: top;\n",
              "    }\n",
              "\n",
              "    .dataframe thead th {\n",
              "        text-align: right;\n",
              "    }\n",
              "</style>\n",
              "<table border=\"1\" class=\"dataframe\">\n",
              "  <thead>\n",
              "    <tr style=\"text-align: right;\">\n",
              "      <th></th>\n",
              "      <th>CustomerID</th>\n",
              "      <th>Age</th>\n",
              "      <th>Annual Income (k$)</th>\n",
              "      <th>Spending Score (1-100)</th>\n",
              "    </tr>\n",
              "  </thead>\n",
              "  <tbody>\n",
              "    <tr>\n",
              "      <th>count</th>\n",
              "      <td>200.000000</td>\n",
              "      <td>200.000000</td>\n",
              "      <td>200.000000</td>\n",
              "      <td>200.000000</td>\n",
              "    </tr>\n",
              "    <tr>\n",
              "      <th>mean</th>\n",
              "      <td>100.500000</td>\n",
              "      <td>38.850000</td>\n",
              "      <td>60.560000</td>\n",
              "      <td>50.200000</td>\n",
              "    </tr>\n",
              "    <tr>\n",
              "      <th>std</th>\n",
              "      <td>57.879185</td>\n",
              "      <td>13.969007</td>\n",
              "      <td>26.264721</td>\n",
              "      <td>25.823522</td>\n",
              "    </tr>\n",
              "    <tr>\n",
              "      <th>min</th>\n",
              "      <td>1.000000</td>\n",
              "      <td>18.000000</td>\n",
              "      <td>15.000000</td>\n",
              "      <td>1.000000</td>\n",
              "    </tr>\n",
              "    <tr>\n",
              "      <th>25%</th>\n",
              "      <td>50.750000</td>\n",
              "      <td>28.750000</td>\n",
              "      <td>41.500000</td>\n",
              "      <td>34.750000</td>\n",
              "    </tr>\n",
              "    <tr>\n",
              "      <th>50%</th>\n",
              "      <td>100.500000</td>\n",
              "      <td>36.000000</td>\n",
              "      <td>61.500000</td>\n",
              "      <td>50.000000</td>\n",
              "    </tr>\n",
              "    <tr>\n",
              "      <th>75%</th>\n",
              "      <td>150.250000</td>\n",
              "      <td>49.000000</td>\n",
              "      <td>78.000000</td>\n",
              "      <td>73.000000</td>\n",
              "    </tr>\n",
              "    <tr>\n",
              "      <th>max</th>\n",
              "      <td>200.000000</td>\n",
              "      <td>70.000000</td>\n",
              "      <td>137.000000</td>\n",
              "      <td>99.000000</td>\n",
              "    </tr>\n",
              "  </tbody>\n",
              "</table>\n",
              "</div>"
            ],
            "text/plain": [
              "       CustomerID         Age  Annual Income (k$)  Spending Score (1-100)\n",
              "count  200.000000  200.000000          200.000000              200.000000\n",
              "mean   100.500000   38.850000           60.560000               50.200000\n",
              "std     57.879185   13.969007           26.264721               25.823522\n",
              "min      1.000000   18.000000           15.000000                1.000000\n",
              "25%     50.750000   28.750000           41.500000               34.750000\n",
              "50%    100.500000   36.000000           61.500000               50.000000\n",
              "75%    150.250000   49.000000           78.000000               73.000000\n",
              "max    200.000000   70.000000          137.000000               99.000000"
            ]
          },
          "execution_count": 255,
          "metadata": {},
          "output_type": "execute_result"
        }
      ],
      "source": [
        "file_data.describe()"
      ]
    },
    {
      "cell_type": "code",
      "execution_count": null,
      "id": "7022ef41",
      "metadata": {
        "id": "7022ef41",
        "outputId": "980655ff-4e97-4946-cacb-6dec4975310f"
      },
      "outputs": [
        {
          "data": {
            "text/html": [
              "<div>\n",
              "<style scoped>\n",
              "    .dataframe tbody tr th:only-of-type {\n",
              "        vertical-align: middle;\n",
              "    }\n",
              "\n",
              "    .dataframe tbody tr th {\n",
              "        vertical-align: top;\n",
              "    }\n",
              "\n",
              "    .dataframe thead th {\n",
              "        text-align: right;\n",
              "    }\n",
              "</style>\n",
              "<table border=\"1\" class=\"dataframe\">\n",
              "  <thead>\n",
              "    <tr style=\"text-align: right;\">\n",
              "      <th></th>\n",
              "      <th>CustomerID</th>\n",
              "      <th>Gender</th>\n",
              "      <th>Age</th>\n",
              "      <th>Annual Income (k$)</th>\n",
              "      <th>Spending Score (1-100)</th>\n",
              "    </tr>\n",
              "  </thead>\n",
              "  <tbody>\n",
              "    <tr>\n",
              "      <th>0</th>\n",
              "      <td>1</td>\n",
              "      <td>Male</td>\n",
              "      <td>19</td>\n",
              "      <td>15</td>\n",
              "      <td>39</td>\n",
              "    </tr>\n",
              "    <tr>\n",
              "      <th>1</th>\n",
              "      <td>2</td>\n",
              "      <td>Male</td>\n",
              "      <td>21</td>\n",
              "      <td>15</td>\n",
              "      <td>81</td>\n",
              "    </tr>\n",
              "    <tr>\n",
              "      <th>2</th>\n",
              "      <td>3</td>\n",
              "      <td>Female</td>\n",
              "      <td>20</td>\n",
              "      <td>16</td>\n",
              "      <td>6</td>\n",
              "    </tr>\n",
              "    <tr>\n",
              "      <th>3</th>\n",
              "      <td>4</td>\n",
              "      <td>Female</td>\n",
              "      <td>23</td>\n",
              "      <td>16</td>\n",
              "      <td>77</td>\n",
              "    </tr>\n",
              "    <tr>\n",
              "      <th>4</th>\n",
              "      <td>5</td>\n",
              "      <td>Female</td>\n",
              "      <td>31</td>\n",
              "      <td>17</td>\n",
              "      <td>40</td>\n",
              "    </tr>\n",
              "  </tbody>\n",
              "</table>\n",
              "</div>"
            ],
            "text/plain": [
              "   CustomerID  Gender  Age  Annual Income (k$)  Spending Score (1-100)\n",
              "0           1    Male   19                  15                      39\n",
              "1           2    Male   21                  15                      81\n",
              "2           3  Female   20                  16                       6\n",
              "3           4  Female   23                  16                      77\n",
              "4           5  Female   31                  17                      40"
            ]
          },
          "execution_count": 256,
          "metadata": {},
          "output_type": "execute_result"
        }
      ],
      "source": [
        "file_data.head()"
      ]
    },
    {
      "cell_type": "code",
      "execution_count": null,
      "id": "fceb68f1",
      "metadata": {
        "id": "fceb68f1",
        "outputId": "b4101626-5a3b-4788-9813-310655c2baed"
      },
      "outputs": [
        {
          "data": {
            "text/html": [
              "<div>\n",
              "<style scoped>\n",
              "    .dataframe tbody tr th:only-of-type {\n",
              "        vertical-align: middle;\n",
              "    }\n",
              "\n",
              "    .dataframe tbody tr th {\n",
              "        vertical-align: top;\n",
              "    }\n",
              "\n",
              "    .dataframe thead th {\n",
              "        text-align: right;\n",
              "    }\n",
              "</style>\n",
              "<table border=\"1\" class=\"dataframe\">\n",
              "  <thead>\n",
              "    <tr style=\"text-align: right;\">\n",
              "      <th></th>\n",
              "      <th>CustomerID</th>\n",
              "      <th>Gender</th>\n",
              "      <th>Age</th>\n",
              "      <th>Annual Income (k$)</th>\n",
              "      <th>Spending Score (1-100)</th>\n",
              "    </tr>\n",
              "  </thead>\n",
              "  <tbody>\n",
              "    <tr>\n",
              "      <th>195</th>\n",
              "      <td>196</td>\n",
              "      <td>Female</td>\n",
              "      <td>35</td>\n",
              "      <td>120</td>\n",
              "      <td>79</td>\n",
              "    </tr>\n",
              "    <tr>\n",
              "      <th>196</th>\n",
              "      <td>197</td>\n",
              "      <td>Female</td>\n",
              "      <td>45</td>\n",
              "      <td>126</td>\n",
              "      <td>28</td>\n",
              "    </tr>\n",
              "    <tr>\n",
              "      <th>197</th>\n",
              "      <td>198</td>\n",
              "      <td>Male</td>\n",
              "      <td>32</td>\n",
              "      <td>126</td>\n",
              "      <td>74</td>\n",
              "    </tr>\n",
              "    <tr>\n",
              "      <th>198</th>\n",
              "      <td>199</td>\n",
              "      <td>Male</td>\n",
              "      <td>32</td>\n",
              "      <td>137</td>\n",
              "      <td>18</td>\n",
              "    </tr>\n",
              "    <tr>\n",
              "      <th>199</th>\n",
              "      <td>200</td>\n",
              "      <td>Male</td>\n",
              "      <td>30</td>\n",
              "      <td>137</td>\n",
              "      <td>83</td>\n",
              "    </tr>\n",
              "  </tbody>\n",
              "</table>\n",
              "</div>"
            ],
            "text/plain": [
              "     CustomerID  Gender  Age  Annual Income (k$)  Spending Score (1-100)\n",
              "195         196  Female   35                 120                      79\n",
              "196         197  Female   45                 126                      28\n",
              "197         198    Male   32                 126                      74\n",
              "198         199    Male   32                 137                      18\n",
              "199         200    Male   30                 137                      83"
            ]
          },
          "execution_count": 257,
          "metadata": {},
          "output_type": "execute_result"
        }
      ],
      "source": [
        "file_data.tail()"
      ]
    },
    {
      "cell_type": "code",
      "execution_count": null,
      "id": "38e6f826",
      "metadata": {
        "id": "38e6f826",
        "outputId": "8bd06d55-3586-40c9-b25b-2cc1988ebc85"
      },
      "outputs": [
        {
          "data": {
            "text/plain": [
              "60.56"
            ]
          },
          "execution_count": 258,
          "metadata": {},
          "output_type": "execute_result"
        }
      ],
      "source": [
        "file_data[\"Annual Income (k$)\"].mean()"
      ]
    },
    {
      "cell_type": "code",
      "execution_count": null,
      "id": "3aeca667",
      "metadata": {
        "id": "3aeca667",
        "outputId": "53145351-f24f-48ed-960f-f44d21f8a506"
      },
      "outputs": [
        {
          "data": {
            "text/plain": [
              "61.5"
            ]
          },
          "execution_count": 259,
          "metadata": {},
          "output_type": "execute_result"
        }
      ],
      "source": [
        "file_data[\"Annual Income (k$)\"].median()"
      ]
    },
    {
      "cell_type": "code",
      "execution_count": null,
      "id": "e6ecaca7",
      "metadata": {
        "id": "e6ecaca7",
        "outputId": "3adc8968-ba78-4dcf-f0e1-645c78ab76db"
      },
      "outputs": [
        {
          "data": {
            "text/plain": [
              "0    54\n",
              "1    78\n",
              "Name: Annual Income (k$), dtype: int64"
            ]
          },
          "execution_count": 260,
          "metadata": {},
          "output_type": "execute_result"
        }
      ],
      "source": [
        "file_data[\"Annual Income (k$)\"].mode()"
      ]
    },
    {
      "cell_type": "code",
      "execution_count": null,
      "id": "0f3aab82",
      "metadata": {
        "id": "0f3aab82",
        "outputId": "e14a5fc7-3b4f-43d2-de6a-5537a11fd552"
      },
      "outputs": [
        {
          "data": {
            "text/plain": [
              "689.8355778894478"
            ]
          },
          "execution_count": 261,
          "metadata": {},
          "output_type": "execute_result"
        }
      ],
      "source": [
        "file_data[\"Annual Income (k$)\"].var()"
      ]
    },
    {
      "cell_type": "code",
      "execution_count": null,
      "id": "4b5c7709",
      "metadata": {
        "id": "4b5c7709",
        "outputId": "832f676d-559f-4f65-f036-f2487970a842"
      },
      "outputs": [
        {
          "data": {
            "text/plain": [
              "26.264721165271254"
            ]
          },
          "execution_count": 262,
          "metadata": {},
          "output_type": "execute_result"
        }
      ],
      "source": [
        "file_data[\"Annual Income (k$)\"].std()"
      ]
    },
    {
      "cell_type": "code",
      "execution_count": null,
      "id": "231c37dc",
      "metadata": {
        "id": "231c37dc",
        "outputId": "f3a0adee-eb9f-4f04-ecac-f516b1ff0bdf"
      },
      "outputs": [
        {
          "data": {
            "text/plain": [
              "0.3218425498619055"
            ]
          },
          "execution_count": 263,
          "metadata": {},
          "output_type": "execute_result"
        }
      ],
      "source": [
        "file_data[\"Annual Income (k$)\"].skew()"
      ]
    },
    {
      "cell_type": "code",
      "execution_count": null,
      "id": "3d4e6b74",
      "metadata": {
        "id": "3d4e6b74",
        "outputId": "f666dc14-5ebb-469d-e168-b7378b149f1d"
      },
      "outputs": [
        {
          "data": {
            "text/plain": [
              "-0.09848708652696203"
            ]
          },
          "execution_count": 264,
          "metadata": {},
          "output_type": "execute_result"
        }
      ],
      "source": [
        "file_data[\"Annual Income (k$)\"].kurt()"
      ]
    },
    {
      "cell_type": "code",
      "execution_count": null,
      "id": "f8fd62af",
      "metadata": {
        "id": "f8fd62af",
        "outputId": "83b6c92e-b2d1-460a-a9fc-ccf2c068932f"
      },
      "outputs": [
        {
          "data": {
            "text/plain": [
              "0.75    49.00\n",
              "0.25    28.75\n",
              "Name: Age, dtype: float64"
            ]
          },
          "execution_count": 265,
          "metadata": {},
          "output_type": "execute_result"
        }
      ],
      "source": [
        "quantile = file_data['Age'].quantile(q=[0.75, 0.25])\n",
        "quantile"
      ]
    },
    {
      "cell_type": "code",
      "execution_count": null,
      "id": "50737276",
      "metadata": {
        "id": "50737276",
        "outputId": "12f5d665-13ec-43cd-ccef-858d9f8c5d5d"
      },
      "outputs": [
        {
          "data": {
            "image/png": "[encoded data removed]",
            "text/plain": [
              "<Figure size 432x288 with 1 Axes>"
            ]
          },
          "metadata": {
            "needs_background": "light"
          },
          "output_type": "display_data"
        }
      ],
      "source": [
        "sns.boxplot(file_data[\"Age\"])\n",
        "import warnings\n",
        "warnings.filterwarnings('ignore')"
      ]
    },
    {
      "cell_type": "markdown",
      "id": "325fb611",
      "metadata": {
        "id": "325fb611"
      },
      "source": [
        "## 5. Handle the Missing values."
      ]
    },
    {
      "cell_type": "code",
      "execution_count": null,
      "id": "1cd6afe9",
      "metadata": {
        "id": "1cd6afe9",
        "outputId": "62253548-c7c3-448a-d4e1-f894da2ba127"
      },
      "outputs": [
        {
          "name": "stdout",
          "output_type": "stream",
          "text": [
            "     CustomerID  Gender    Age  Annual Income (k$)  Spending Score (1-100)\n",
            "0         False   False  False               False                   False\n",
            "1         False   False  False               False                   False\n",
            "2         False   False  False               False                   False\n",
            "3         False   False  False               False                   False\n",
            "4         False   False  False               False                   False\n",
            "..          ...     ...    ...                 ...                     ...\n",
            "195       False   False  False               False                   False\n",
            "196       False   False  False               False                   False\n",
            "197       False   False  False               False                   False\n",
            "198       False   False  False               False                   False\n",
            "199       False   False  False               False                   False\n",
            "\n",
            "[200 rows x 5 columns]\n"
          ]
        }
      ],
      "source": [
        "print(file_data.isnull())"
      ]
    },
    {
      "cell_type": "code",
      "execution_count": null,
      "id": "c237717d",
      "metadata": {
        "id": "c237717d",
        "outputId": "3da0c5d4-83b5-4be5-aa90-c259a1ec558c"
      },
      "outputs": [
        {
          "name": "stdout",
          "output_type": "stream",
          "text": [
            "CustomerID                0\n",
            "Gender                    0\n",
            "Age                       0\n",
            "Annual Income (k$)        0\n",
            "Spending Score (1-100)    0\n",
            "dtype: int64\n"
          ]
        }
      ],
      "source": [
        "print(file_data.isnull().sum())"
      ]
    },
    {
      "cell_type": "code",
      "execution_count": null,
      "id": "bced7bf4",
      "metadata": {
        "id": "bced7bf4",
        "outputId": "545776e9-3c53-4463-b4ab-13ec19281d07"
      },
      "outputs": [
        {
          "data": {
            "text/plain": [
              "CustomerID                False\n",
              "Gender                    False\n",
              "Age                       False\n",
              "Annual Income (k$)        False\n",
              "Spending Score (1-100)    False\n",
              "dtype: bool"
            ]
          },
          "execution_count": 269,
          "metadata": {},
          "output_type": "execute_result"
        }
      ],
      "source": [
        "file_data.isna().any()"
      ]
    },
    {
      "cell_type": "markdown",
      "id": "1a96a3a9",
      "metadata": {
        "id": "1a96a3a9"
      },
      "source": [
        "## 6. Find the outliers and replace the outliers"
      ]
    },
    {
      "cell_type": "code",
      "execution_count": null,
      "id": "9571cda2",
      "metadata": {
        "id": "9571cda2",
        "outputId": "5349c742-7833-4745-ac76-d21422fe9b5a"
      },
      "outputs": [
        {
          "data": {
            "text/plain": [
              "<AxesSubplot:xlabel='Age'>"
            ]
          },
          "execution_count": 270,
          "metadata": {},
          "output_type": "execute_result"
        },
        {
          "data": {
            "image/png": "[encoded data removed]",
            "text/plain": [
              "<Figure size 432x288 with 1 Axes>"
            ]
          },
          "metadata": {
            "needs_background": "light"
          },
          "output_type": "display_data"
        }
      ],
      "source": [
        "x = sns.boxplot(x=file_data[\"Age\"])\n",
        "x"
      ]
    },
    {
      "cell_type": "code",
      "execution_count": null,
      "id": "2d86ac50",
      "metadata": {
        "id": "2d86ac50",
        "outputId": "ddb384bb-b67d-469e-b909-8222e40b1d15"
      },
      "outputs": [
        {
          "data": {
            "text/plain": [
              "<AxesSubplot:xlabel='Age'>"
            ]
          },
          "execution_count": 271,
          "metadata": {},
          "output_type": "execute_result"
        },
        {
          "data": {
            "image/png": "[encoded data removed]",
            "text/plain": [
              "<Figure size 432x288 with 1 Axes>"
            ]
          },
          "metadata": {
            "needs_background": "light"
          },
          "output_type": "display_data"
        }
      ],
      "source": [
        "sns.boxplot(file_data['Age'])"
      ]
    },
    {
      "cell_type": "code",
      "execution_count": null,
      "id": "062e459e",
      "metadata": {
        "id": "062e459e"
      },
      "outputs": [],
      "source": [
        "file_data['Age']=np.where(file_data['Age']>57,39, file_data['Age'])"
      ]
    },
    {
      "cell_type": "code",
      "execution_count": null,
      "id": "ef007603",
      "metadata": {
        "id": "ef007603",
        "outputId": "13ff9d66-24fa-43c2-cb62-fc701fff2db5"
      },
      "outputs": [
        {
          "data": {
            "text/plain": [
              "<AxesSubplot:xlabel='Age'>"
            ]
          },
          "execution_count": 273,
          "metadata": {},
          "output_type": "execute_result"
        },
        {
          "data": {
            "image/png": "[encoded data removed]",
            "text/plain": [
              "<Figure size 432x288 with 1 Axes>"
            ]
          },
          "metadata": {
            "needs_background": "light"
          },
          "output_type": "display_data"
        }
      ],
      "source": [
        "sns.boxplot(file_data['Age'])"
      ]
    },
    {
      "cell_type": "markdown",
      "id": "7d80676d",
      "metadata": {
        "id": "7d80676d"
      },
      "source": [
        "## 7. Check for Categorical columns and perform encoding."
      ]
    },
    {
      "cell_type": "code",
      "execution_count": null,
      "id": "e4f5696d",
      "metadata": {
        "id": "e4f5696d",
        "outputId": "9309ec0a-b2b5-4bc3-a3d3-d2261f73493e"
      },
      "outputs": [
        {
          "data": {
            "text/plain": [
              "[15, 15, 16, 16, 17, ..., 120, 126, 126, 137, 137]\n",
              "Length: 200\n",
              "Categories (64, int64): [15, 16, 17, 18, ..., 113, 120, 126, 137]"
            ]
          },
          "execution_count": 274,
          "metadata": {},
          "output_type": "execute_result"
        }
      ],
      "source": [
        "pd.Categorical(file_data[\"Annual Income (k$)\"])"
      ]
    },
    {
      "cell_type": "code",
      "execution_count": null,
      "id": "8dc9c53c",
      "metadata": {
        "scrolled": true,
        "id": "8dc9c53c",
        "outputId": "bc323b15-0934-4b94-f3e1-c923c95024e9"
      },
      "outputs": [
        {
          "data": {
            "text/html": [
              "<div>\n",
              "<style scoped>\n",
              "    .dataframe tbody tr th:only-of-type {\n",
              "        vertical-align: middle;\n",
              "    }\n",
              "\n",
              "    .dataframe tbody tr th {\n",
              "        vertical-align: top;\n",
              "    }\n",
              "\n",
              "    .dataframe thead th {\n",
              "        text-align: right;\n",
              "    }\n",
              "</style>\n",
              "<table border=\"1\" class=\"dataframe\">\n",
              "  <thead>\n",
              "    <tr style=\"text-align: right;\">\n",
              "      <th></th>\n",
              "      <th>15</th>\n",
              "      <th>16</th>\n",
              "      <th>17</th>\n",
              "      <th>18</th>\n",
              "      <th>19</th>\n",
              "      <th>20</th>\n",
              "      <th>21</th>\n",
              "      <th>23</th>\n",
              "      <th>24</th>\n",
              "      <th>25</th>\n",
              "      <th>...</th>\n",
              "      <th>93</th>\n",
              "      <th>97</th>\n",
              "      <th>98</th>\n",
              "      <th>99</th>\n",
              "      <th>101</th>\n",
              "      <th>103</th>\n",
              "      <th>113</th>\n",
              "      <th>120</th>\n",
              "      <th>126</th>\n",
              "      <th>137</th>\n",
              "    </tr>\n",
              "  </thead>\n",
              "  <tbody>\n",
              "    <tr>\n",
              "      <th>0</th>\n",
              "      <td>1</td>\n",
              "      <td>0</td>\n",
              "      <td>0</td>\n",
              "      <td>0</td>\n",
              "      <td>0</td>\n",
              "      <td>0</td>\n",
              "      <td>0</td>\n",
              "      <td>0</td>\n",
              "      <td>0</td>\n",
              "      <td>0</td>\n",
              "      <td>...</td>\n",
              "      <td>0</td>\n",
              "      <td>0</td>\n",
              "      <td>0</td>\n",
              "      <td>0</td>\n",
              "      <td>0</td>\n",
              "      <td>0</td>\n",
              "      <td>0</td>\n",
              "      <td>0</td>\n",
              "      <td>0</td>\n",
              "      <td>0</td>\n",
              "    </tr>\n",
              "    <tr>\n",
              "      <th>1</th>\n",
              "      <td>1</td>\n",
              "      <td>0</td>\n",
              "      <td>0</td>\n",
              "      <td>0</td>\n",
              "      <td>0</td>\n",
              "      <td>0</td>\n",
              "      <td>0</td>\n",
              "      <td>0</td>\n",
              "      <td>0</td>\n",
              "      <td>0</td>\n",
              "      <td>...</td>\n",
              "      <td>0</td>\n",
              "      <td>0</td>\n",
              "      <td>0</td>\n",
              "      <td>0</td>\n",
              "      <td>0</td>\n",
              "      <td>0</td>\n",
              "      <td>0</td>\n",
              "      <td>0</td>\n",
              "      <td>0</td>\n",
              "      <td>0</td>\n",
              "    </tr>\n",
              "    <tr>\n",
              "      <th>2</th>\n",
              "      <td>0</td>\n",
              "      <td>1</td>\n",
              "      <td>0</td>\n",
              "      <td>0</td>\n",
              "      <td>0</td>\n",
              "      <td>0</td>\n",
              "      <td>0</td>\n",
              "      <td>0</td>\n",
              "      <td>0</td>\n",
              "      <td>0</td>\n",
              "      <td>...</td>\n",
              "      <td>0</td>\n",
              "      <td>0</td>\n",
              "      <td>0</td>\n",
              "      <td>0</td>\n",
              "      <td>0</td>\n",
              "      <td>0</td>\n",
              "      <td>0</td>\n",
              "      <td>0</td>\n",
              "      <td>0</td>\n",
              "      <td>0</td>\n",
              "    </tr>\n",
              "    <tr>\n",
              "      <th>3</th>\n",
              "      <td>0</td>\n",
              "      <td>1</td>\n",
              "      <td>0</td>\n",
              "      <td>0</td>\n",
              "      <td>0</td>\n",
              "      <td>0</td>\n",
              "      <td>0</td>\n",
              "      <td>0</td>\n",
              "      <td>0</td>\n",
              "      <td>0</td>\n",
              "      <td>...</td>\n",
              "      <td>0</td>\n",
              "      <td>0</td>\n",
              "      <td>0</td>\n",
              "      <td>0</td>\n",
              "      <td>0</td>\n",
              "      <td>0</td>\n",
              "      <td>0</td>\n",
              "      <td>0</td>\n",
              "      <td>0</td>\n",
              "      <td>0</td>\n",
              "    </tr>\n",
              "    <tr>\n",
              "      <th>4</th>\n",
              "      <td>0</td>\n",
              "      <td>0</td>\n",
              "      <td>1</td>\n",
              "      <td>0</td>\n",
              "      <td>0</td>\n",
              "      <td>0</td>\n",
              "      <td>0</td>\n",
              "      <td>0</td>\n",
              "      <td>0</td>\n",
              "      <td>0</td>\n",
              "      <td>...</td>\n",
              "      <td>0</td>\n",
              "      <td>0</td>\n",
              "      <td>0</td>\n",
              "      <td>0</td>\n",
              "      <td>0</td>\n",
              "      <td>0</td>\n",
              "      <td>0</td>\n",
              "      <td>0</td>\n",
              "      <td>0</td>\n",
              "      <td>0</td>\n",
              "    </tr>\n",
              "    <tr>\n",
              "      <th>5</th>\n",
              "      <td>0</td>\n",
              "      <td>0</td>\n",
              "      <td>1</td>\n",
              "      <td>0</td>\n",
              "      <td>0</td>\n",
              "      <td>0</td>\n",
              "      <td>0</td>\n",
              "      <td>0</td>\n",
              "      <td>0</td>\n",
              "      <td>0</td>\n",
              "      <td>...</td>\n",
              "      <td>0</td>\n",
              "      <td>0</td>\n",
              "      <td>0</td>\n",
              "      <td>0</td>\n",
              "      <td>0</td>\n",
              "      <td>0</td>\n",
              "      <td>0</td>\n",
              "      <td>0</td>\n",
              "      <td>0</td>\n",
              "      <td>0</td>\n",
              "    </tr>\n",
              "    <tr>\n",
              "      <th>6</th>\n",
              "      <td>0</td>\n",
              "      <td>0</td>\n",
              "      <td>0</td>\n",
              "      <td>1</td>\n",
              "      <td>0</td>\n",
              "      <td>0</td>\n",
              "      <td>0</td>\n",
              "      <td>0</td>\n",
              "      <td>0</td>\n",
              "      <td>0</td>\n",
              "      <td>...</td>\n",
              "      <td>0</td>\n",
              "      <td>0</td>\n",
              "      <td>0</td>\n",
              "      <td>0</td>\n",
              "      <td>0</td>\n",
              "      <td>0</td>\n",
              "      <td>0</td>\n",
              "      <td>0</td>\n",
              "      <td>0</td>\n",
              "      <td>0</td>\n",
              "    </tr>\n",
              "    <tr>\n",
              "      <th>7</th>\n",
              "      <td>0</td>\n",
              "      <td>0</td>\n",
              "      <td>0</td>\n",
              "      <td>1</td>\n",
              "      <td>0</td>\n",
              "      <td>0</td>\n",
              "      <td>0</td>\n",
              "      <td>0</td>\n",
              "      <td>0</td>\n",
              "      <td>0</td>\n",
              "      <td>...</td>\n",
              "      <td>0</td>\n",
              "      <td>0</td>\n",
              "      <td>0</td>\n",
              "      <td>0</td>\n",
              "      <td>0</td>\n",
              "      <td>0</td>\n",
              "      <td>0</td>\n",
              "      <td>0</td>\n",
              "      <td>0</td>\n",
              "      <td>0</td>\n",
              "    </tr>\n",
              "    <tr>\n",
              "      <th>8</th>\n",
              "      <td>0</td>\n",
              "      <td>0</td>\n",
              "      <td>0</td>\n",
              "      <td>0</td>\n",
              "      <td>1</td>\n",
              "      <td>0</td>\n",
              "      <td>0</td>\n",
              "      <td>0</td>\n",
              "      <td>0</td>\n",
              "      <td>0</td>\n",
              "      <td>...</td>\n",
              "      <td>0</td>\n",
              "      <td>0</td>\n",
              "      <td>0</td>\n",
              "      <td>0</td>\n",
              "      <td>0</td>\n",
              "      <td>0</td>\n",
              "      <td>0</td>\n",
              "      <td>0</td>\n",
              "      <td>0</td>\n",
              "      <td>0</td>\n",
              "    </tr>\n",
              "    <tr>\n",
              "      <th>9</th>\n",
              "      <td>0</td>\n",
              "      <td>0</td>\n",
              "      <td>0</td>\n",
              "      <td>0</td>\n",
              "      <td>1</td>\n",
              "      <td>0</td>\n",
              "      <td>0</td>\n",
              "      <td>0</td>\n",
              "      <td>0</td>\n",
              "      <td>0</td>\n",
              "      <td>...</td>\n",
              "      <td>0</td>\n",
              "      <td>0</td>\n",
              "      <td>0</td>\n",
              "      <td>0</td>\n",
              "      <td>0</td>\n",
              "      <td>0</td>\n",
              "      <td>0</td>\n",
              "      <td>0</td>\n",
              "      <td>0</td>\n",
              "      <td>0</td>\n",
              "    </tr>\n",
              "  </tbody>\n",
              "</table>\n",
              "<p>10 rows × 64 columns</p>\n",
              "</div>"
            ],
            "text/plain": [
              "   15   16   17   18   19   20   21   23   24   25   ...  93   97   98   99   \\\n",
              "0    1    0    0    0    0    0    0    0    0    0  ...    0    0    0    0   \n",
              "1    1    0    0    0    0    0    0    0    0    0  ...    0    0    0    0   \n",
              "2    0    1    0    0    0    0    0    0    0    0  ...    0    0    0    0   \n",
              "3    0    1    0    0    0    0    0    0    0    0  ...    0    0    0    0   \n",
              "4    0    0    1    0    0    0    0    0    0    0  ...    0    0    0    0   \n",
              "5    0    0    1    0    0    0    0    0    0    0  ...    0    0    0    0   \n",
              "6    0    0    0    1    0    0    0    0    0    0  ...    0    0    0    0   \n",
              "7    0    0    0    1    0    0    0    0    0    0  ...    0    0    0    0   \n",
              "8    0    0    0    0    1    0    0    0    0    0  ...    0    0    0    0   \n",
              "9    0    0    0    0    1    0    0    0    0    0  ...    0    0    0    0   \n",
              "\n",
              "   101  103  113  120  126  137  \n",
              "0    0    0    0    0    0    0  \n",
              "1    0    0    0    0    0    0  \n",
              "2    0    0    0    0    0    0  \n",
              "3    0    0    0    0    0    0  \n",
              "4    0    0    0    0    0    0  \n",
              "5    0    0    0    0    0    0  \n",
              "6    0    0    0    0    0    0  \n",
              "7    0    0    0    0    0    0  \n",
              "8    0    0    0    0    0    0  \n",
              "9    0    0    0    0    0    0  \n",
              "\n",
              "[10 rows x 64 columns]"
            ]
          },
          "execution_count": 275,
          "metadata": {},
          "output_type": "execute_result"
        }
      ],
      "source": [
        "# One Hot Encoding\n",
        "\n",
        "pd.get_dummies(file_data[\"Annual Income (k$)\"]).head(10)"
      ]
    },
    {
      "cell_type": "code",
      "execution_count": null,
      "id": "dddabe5d",
      "metadata": {
        "id": "dddabe5d",
        "outputId": "86ad3d77-a276-456f-f63c-4037f2ed32ab"
      },
      "outputs": [
        {
          "data": {
            "text/html": [
              "<div>\n",
              "<style scoped>\n",
              "    .dataframe tbody tr th:only-of-type {\n",
              "        vertical-align: middle;\n",
              "    }\n",
              "\n",
              "    .dataframe tbody tr th {\n",
              "        vertical-align: top;\n",
              "    }\n",
              "\n",
              "    .dataframe thead th {\n",
              "        text-align: right;\n",
              "    }\n",
              "</style>\n",
              "<table border=\"1\" class=\"dataframe\">\n",
              "  <thead>\n",
              "    <tr style=\"text-align: right;\">\n",
              "      <th></th>\n",
              "      <th>CustomerID</th>\n",
              "      <th>Age</th>\n",
              "      <th>Annual Income (k$)</th>\n",
              "      <th>Spending Score (1-100)</th>\n",
              "      <th>Gender_Female</th>\n",
              "      <th>Gender_Male</th>\n",
              "    </tr>\n",
              "  </thead>\n",
              "  <tbody>\n",
              "    <tr>\n",
              "      <th>0</th>\n",
              "      <td>1</td>\n",
              "      <td>19</td>\n",
              "      <td>15</td>\n",
              "      <td>39</td>\n",
              "      <td>0</td>\n",
              "      <td>1</td>\n",
              "    </tr>\n",
              "    <tr>\n",
              "      <th>1</th>\n",
              "      <td>2</td>\n",
              "      <td>21</td>\n",
              "      <td>15</td>\n",
              "      <td>81</td>\n",
              "      <td>0</td>\n",
              "      <td>1</td>\n",
              "    </tr>\n",
              "    <tr>\n",
              "      <th>2</th>\n",
              "      <td>3</td>\n",
              "      <td>20</td>\n",
              "      <td>16</td>\n",
              "      <td>6</td>\n",
              "      <td>1</td>\n",
              "      <td>0</td>\n",
              "    </tr>\n",
              "    <tr>\n",
              "      <th>3</th>\n",
              "      <td>4</td>\n",
              "      <td>23</td>\n",
              "      <td>16</td>\n",
              "      <td>77</td>\n",
              "      <td>1</td>\n",
              "      <td>0</td>\n",
              "    </tr>\n",
              "    <tr>\n",
              "      <th>4</th>\n",
              "      <td>5</td>\n",
              "      <td>31</td>\n",
              "      <td>17</td>\n",
              "      <td>40</td>\n",
              "      <td>1</td>\n",
              "      <td>0</td>\n",
              "    </tr>\n",
              "    <tr>\n",
              "      <th>5</th>\n",
              "      <td>6</td>\n",
              "      <td>22</td>\n",
              "      <td>17</td>\n",
              "      <td>76</td>\n",
              "      <td>1</td>\n",
              "      <td>0</td>\n",
              "    </tr>\n",
              "    <tr>\n",
              "      <th>6</th>\n",
              "      <td>7</td>\n",
              "      <td>35</td>\n",
              "      <td>18</td>\n",
              "      <td>6</td>\n",
              "      <td>1</td>\n",
              "      <td>0</td>\n",
              "    </tr>\n",
              "    <tr>\n",
              "      <th>7</th>\n",
              "      <td>8</td>\n",
              "      <td>23</td>\n",
              "      <td>18</td>\n",
              "      <td>94</td>\n",
              "      <td>1</td>\n",
              "      <td>0</td>\n",
              "    </tr>\n",
              "    <tr>\n",
              "      <th>8</th>\n",
              "      <td>9</td>\n",
              "      <td>39</td>\n",
              "      <td>19</td>\n",
              "      <td>3</td>\n",
              "      <td>0</td>\n",
              "      <td>1</td>\n",
              "    </tr>\n",
              "    <tr>\n",
              "      <th>9</th>\n",
              "      <td>10</td>\n",
              "      <td>30</td>\n",
              "      <td>19</td>\n",
              "      <td>72</td>\n",
              "      <td>1</td>\n",
              "      <td>0</td>\n",
              "    </tr>\n",
              "  </tbody>\n",
              "</table>\n",
              "</div>"
            ],
            "text/plain": [
              "   CustomerID  Age  Annual Income (k$)  Spending Score (1-100)  Gender_Female  \\\n",
              "0           1   19                  15                      39              0   \n",
              "1           2   21                  15                      81              0   \n",
              "2           3   20                  16                       6              1   \n",
              "3           4   23                  16                      77              1   \n",
              "4           5   31                  17                      40              1   \n",
              "5           6   22                  17                      76              1   \n",
              "6           7   35                  18                       6              1   \n",
              "7           8   23                  18                      94              1   \n",
              "8           9   39                  19                       3              0   \n",
              "9          10   30                  19                      72              1   \n",
              "\n",
              "   Gender_Male  \n",
              "0            1  \n",
              "1            1  \n",
              "2            0  \n",
              "3            0  \n",
              "4            0  \n",
              "5            0  \n",
              "6            0  \n",
              "7            0  \n",
              "8            1  \n",
              "9            0  "
            ]
          },
          "execution_count": 276,
          "metadata": {},
          "output_type": "execute_result"
        }
      ],
      "source": [
        "pd.get_dummies(file_data).head(10)"
      ]
    },
    {
      "cell_type": "markdown",
      "id": "e6256b28",
      "metadata": {
        "id": "e6256b28"
      },
      "source": [
        "## 8. Scaling the data"
      ]
    },
    {
      "cell_type": "code",
      "execution_count": null,
      "id": "8f0be6e6",
      "metadata": {
        "id": "8f0be6e6"
      },
      "outputs": [],
      "source": [
        "from sklearn.preprocessing import LabelEncoder\n",
        "from sklearn.preprocessing import StandardScaler\n",
        "from sklearn.model_selection import train_test_split"
      ]
    },
    {
      "cell_type": "code",
      "execution_count": null,
      "id": "e6cbb6be",
      "metadata": {
        "id": "e6cbb6be"
      },
      "outputs": [],
      "source": [
        "label = LabelEncoder()\n",
        "label = label.fit_transform(file_data['Gender'])\n",
        "file_data[\"Gender\"] = label\n",
        "file_data['Gender'].value_counts()\n",
        "\n",
        "X = file_data.drop(\"Age\",axis=1)\n",
        "Y = file_data['Age']"
      ]
    },
    {
      "cell_type": "code",
      "execution_count": null,
      "id": "3b4b1d60",
      "metadata": {
        "id": "3b4b1d60",
        "outputId": "5b7d9da9-6f73-46a4-8665-73e2b5b2a85e"
      },
      "outputs": [
        {
          "data": {
            "text/plain": [
              "array([[-1.7234121 ,  1.12815215, -1.73899919, -0.43480148],\n",
              "       [-1.70609137,  1.12815215, -1.73899919,  1.19570407],\n",
              "       [-1.68877065, -0.88640526, -1.70082976, -1.71591298],\n",
              "       [-1.67144992, -0.88640526, -1.70082976,  1.04041783],\n",
              "       [-1.6541292 , -0.88640526, -1.66266033, -0.39597992],\n",
              "       [-1.63680847, -0.88640526, -1.66266033,  1.00159627],\n",
              "       [-1.61948775, -0.88640526, -1.62449091, -1.71591298],\n",
              "       [-1.60216702, -0.88640526, -1.62449091,  1.70038436],\n",
              "       [-1.5848463 ,  1.12815215, -1.58632148, -1.83237767],\n",
              "       [-1.56752558, -0.88640526, -1.58632148,  0.84631002],\n",
              "       [-1.55020485,  1.12815215, -1.58632148, -1.4053405 ],\n",
              "       [-1.53288413, -0.88640526, -1.58632148,  1.89449216],\n",
              "       [-1.5155634 , -0.88640526, -1.54815205, -1.36651894],\n",
              "       [-1.49824268, -0.88640526, -1.54815205,  1.04041783],\n",
              "       [-1.48092195,  1.12815215, -1.54815205, -1.44416206],\n",
              "       [-1.46360123,  1.12815215, -1.54815205,  1.11806095],\n",
              "       [-1.4462805 , -0.88640526, -1.50998262, -0.59008772],\n",
              "       [-1.42895978,  1.12815215, -1.50998262,  0.61338066],\n",
              "       [-1.41163905,  1.12815215, -1.43364376, -0.82301709],\n",
              "       [-1.39431833, -0.88640526, -1.43364376,  1.8556706 ],\n",
              "       [-1.3769976 ,  1.12815215, -1.39547433, -0.59008772],\n",
              "       [-1.35967688,  1.12815215, -1.39547433,  0.88513158],\n",
              "       [-1.34235616, -0.88640526, -1.3573049 , -1.75473454],\n",
              "       [-1.32503543,  1.12815215, -1.3573049 ,  0.88513158],\n",
              "       [-1.30771471, -0.88640526, -1.24279661, -1.4053405 ],\n",
              "       [-1.29039398,  1.12815215, -1.24279661,  1.23452563],\n",
              "       [-1.27307326, -0.88640526, -1.24279661, -0.7065524 ],\n",
              "       [-1.25575253,  1.12815215, -1.24279661,  0.41927286],\n",
              "       [-1.23843181, -0.88640526, -1.20462718, -0.74537397],\n",
              "       [-1.22111108, -0.88640526, -1.20462718,  1.42863343],\n",
              "       [-1.20379036,  1.12815215, -1.16645776, -1.7935561 ],\n",
              "       [-1.18646963, -0.88640526, -1.16645776,  0.88513158],\n",
              "       [-1.16914891,  1.12815215, -1.05194947, -1.7935561 ],\n",
              "       [-1.15182818,  1.12815215, -1.05194947,  1.62274124],\n",
              "       [-1.13450746, -0.88640526, -1.05194947, -1.4053405 ],\n",
              "       [-1.11718674, -0.88640526, -1.05194947,  1.19570407],\n",
              "       [-1.09986601, -0.88640526, -1.01378004, -1.28887582],\n",
              "       [-1.08254529, -0.88640526, -1.01378004,  0.88513158],\n",
              "       [-1.06522456, -0.88640526, -0.89927175, -0.93948177],\n",
              "       [-1.04790384, -0.88640526, -0.89927175,  0.96277471],\n",
              "       [-1.03058311, -0.88640526, -0.86110232, -0.59008772],\n",
              "       [-1.01326239,  1.12815215, -0.86110232,  1.62274124],\n",
              "       [-0.99594166,  1.12815215, -0.82293289, -0.55126616],\n",
              "       [-0.97862094, -0.88640526, -0.82293289,  0.41927286],\n",
              "       [-0.96130021, -0.88640526, -0.82293289, -0.86183865],\n",
              "       [-0.94397949, -0.88640526, -0.82293289,  0.5745591 ],\n",
              "       [-0.92665877, -0.88640526, -0.78476346,  0.18634349],\n",
              "       [-0.90933804, -0.88640526, -0.78476346, -0.12422899],\n",
              "       [-0.89201732, -0.88640526, -0.78476346, -0.3183368 ],\n",
              "       [-0.87469659, -0.88640526, -0.78476346, -0.3183368 ],\n",
              "       [-0.85737587, -0.88640526, -0.70842461,  0.06987881],\n",
              "       [-0.84005514,  1.12815215, -0.70842461,  0.38045129],\n",
              "       [-0.82273442, -0.88640526, -0.67025518,  0.14752193],\n",
              "       [-0.80541369,  1.12815215, -0.67025518,  0.38045129],\n",
              "       [-0.78809297, -0.88640526, -0.67025518, -0.20187212],\n",
              "       [-0.77077224,  1.12815215, -0.67025518, -0.35715836],\n",
              "       [-0.75345152, -0.88640526, -0.63208575, -0.00776431],\n",
              "       [-0.73613079,  1.12815215, -0.63208575, -0.16305055],\n",
              "       [-0.71881007, -0.88640526, -0.55574689,  0.03105725],\n",
              "       [-0.70148935,  1.12815215, -0.55574689, -0.16305055],\n",
              "       [-0.68416862,  1.12815215, -0.55574689,  0.22516505],\n",
              "       [-0.6668479 ,  1.12815215, -0.55574689,  0.18634349],\n",
              "       [-0.64952717, -0.88640526, -0.51757746,  0.06987881],\n",
              "       [-0.63220645, -0.88640526, -0.51757746,  0.34162973],\n",
              "       [-0.61488572,  1.12815215, -0.47940803,  0.03105725],\n",
              "       [-0.597565  ,  1.12815215, -0.47940803,  0.34162973],\n",
              "       [-0.58024427, -0.88640526, -0.47940803, -0.00776431],\n",
              "       [-0.56292355, -0.88640526, -0.47940803, -0.08540743],\n",
              "       [-0.54560282,  1.12815215, -0.47940803,  0.34162973],\n",
              "       [-0.5282821 , -0.88640526, -0.47940803, -0.12422899],\n",
              "       [-0.51096138,  1.12815215, -0.4412386 ,  0.18634349],\n",
              "       [-0.49364065, -0.88640526, -0.4412386 , -0.3183368 ],\n",
              "       [-0.47631993, -0.88640526, -0.40306917, -0.04658587],\n",
              "       [-0.4589992 , -0.88640526, -0.40306917,  0.22516505],\n",
              "       [-0.44167848,  1.12815215, -0.25039146, -0.12422899],\n",
              "       [-0.42435775,  1.12815215, -0.25039146,  0.14752193],\n",
              "       [-0.40703703, -0.88640526, -0.25039146,  0.10870037],\n",
              "       [-0.3897163 ,  1.12815215, -0.25039146, -0.08540743],\n",
              "       [-0.37239558, -0.88640526, -0.25039146,  0.06987881],\n",
              "       [-0.35507485, -0.88640526, -0.25039146, -0.3183368 ],\n",
              "       [-0.33775413,  1.12815215, -0.25039146,  0.03105725],\n",
              "       [-0.3204334 ,  1.12815215, -0.25039146,  0.18634349],\n",
              "       [-0.30311268,  1.12815215, -0.25039146, -0.35715836],\n",
              "       [-0.28579196, -0.88640526, -0.25039146, -0.24069368],\n",
              "       [-0.26847123, -0.88640526, -0.25039146,  0.26398661],\n",
              "       [-0.25115051,  1.12815215, -0.25039146, -0.16305055],\n",
              "       [-0.23382978, -0.88640526, -0.13588317,  0.30280817],\n",
              "       [-0.21650906, -0.88640526, -0.13588317,  0.18634349],\n",
              "       [-0.19918833, -0.88640526, -0.09771374,  0.38045129],\n",
              "       [-0.18186761, -0.88640526, -0.09771374, -0.16305055],\n",
              "       [-0.16454688, -0.88640526, -0.05954431,  0.18634349],\n",
              "       [-0.14722616,  1.12815215, -0.05954431, -0.35715836],\n",
              "       [-0.12990543,  1.12815215, -0.02137488, -0.04658587],\n",
              "       [-0.11258471, -0.88640526, -0.02137488, -0.39597992],\n",
              "       [-0.09526399, -0.88640526, -0.02137488, -0.3183368 ],\n",
              "       [-0.07794326,  1.12815215, -0.02137488,  0.06987881],\n",
              "       [-0.06062254, -0.88640526, -0.02137488, -0.12422899],\n",
              "       [-0.04330181, -0.88640526, -0.02137488, -0.00776431],\n",
              "       [-0.02598109,  1.12815215,  0.01679455, -0.3183368 ],\n",
              "       [-0.00866036,  1.12815215,  0.01679455, -0.04658587],\n",
              "       [ 0.00866036, -0.88640526,  0.05496398, -0.35715836],\n",
              "       [ 0.02598109, -0.88640526,  0.05496398, -0.08540743],\n",
              "       [ 0.04330181,  1.12815215,  0.05496398,  0.34162973],\n",
              "       [ 0.06062254,  1.12815215,  0.05496398,  0.18634349],\n",
              "       [ 0.07794326,  1.12815215,  0.05496398,  0.22516505],\n",
              "       [ 0.09526399, -0.88640526,  0.05496398, -0.3183368 ],\n",
              "       [ 0.11258471, -0.88640526,  0.09313341, -0.00776431],\n",
              "       [ 0.12990543,  1.12815215,  0.09313341, -0.16305055],\n",
              "       [ 0.14722616,  1.12815215,  0.09313341, -0.27951524],\n",
              "       [ 0.16454688,  1.12815215,  0.09313341, -0.08540743],\n",
              "       [ 0.18186761,  1.12815215,  0.09313341,  0.06987881],\n",
              "       [ 0.19918833, -0.88640526,  0.09313341,  0.14752193],\n",
              "       [ 0.21650906, -0.88640526,  0.13130284, -0.3183368 ],\n",
              "       [ 0.23382978,  1.12815215,  0.13130284, -0.16305055],\n",
              "       [ 0.25115051, -0.88640526,  0.16947227, -0.08540743],\n",
              "       [ 0.26847123, -0.88640526,  0.16947227, -0.00776431],\n",
              "       [ 0.28579196, -0.88640526,  0.16947227, -0.27951524],\n",
              "       [ 0.30311268, -0.88640526,  0.16947227,  0.34162973],\n",
              "       [ 0.3204334 , -0.88640526,  0.24581112, -0.27951524],\n",
              "       [ 0.33775413, -0.88640526,  0.24581112,  0.26398661],\n",
              "       [ 0.35507485,  1.12815215,  0.24581112,  0.22516505],\n",
              "       [ 0.37239558, -0.88640526,  0.24581112, -0.39597992],\n",
              "       [ 0.3897163 , -0.88640526,  0.32214998,  0.30280817],\n",
              "       [ 0.40703703,  1.12815215,  0.32214998,  1.58391968],\n",
              "       [ 0.42435775, -0.88640526,  0.36031941, -0.82301709],\n",
              "       [ 0.44167848, -0.88640526,  0.36031941,  1.04041783],\n",
              "       [ 0.4589992 ,  1.12815215,  0.39848884, -0.59008772],\n",
              "       [ 0.47631993,  1.12815215,  0.39848884,  1.73920592],\n",
              "       [ 0.49364065,  1.12815215,  0.39848884, -1.52180518],\n",
              "       [ 0.51096138,  1.12815215,  0.39848884,  0.96277471],\n",
              "       [ 0.5282821 ,  1.12815215,  0.39848884, -1.5994483 ],\n",
              "       [ 0.54560282,  1.12815215,  0.39848884,  0.96277471],\n",
              "       [ 0.56292355, -0.88640526,  0.43665827, -0.62890928],\n",
              "       [ 0.58024427, -0.88640526,  0.43665827,  0.80748846],\n",
              "       [ 0.597565  ,  1.12815215,  0.4748277 , -1.75473454],\n",
              "       [ 0.61488572, -0.88640526,  0.4748277 ,  1.46745499],\n",
              "       [ 0.63220645, -0.88640526,  0.4748277 , -1.67709142],\n",
              "       [ 0.64952717,  1.12815215,  0.4748277 ,  0.88513158],\n",
              "       [ 0.6668479 ,  1.12815215,  0.51299713, -1.56062674],\n",
              "       [ 0.68416862, -0.88640526,  0.51299713,  0.84631002],\n",
              "       [ 0.70148935, -0.88640526,  0.55116656, -1.75473454],\n",
              "       [ 0.71881007,  1.12815215,  0.55116656,  1.6615628 ],\n",
              "       [ 0.73613079, -0.88640526,  0.58933599, -0.39597992],\n",
              "       [ 0.75345152, -0.88640526,  0.58933599,  1.42863343],\n",
              "       [ 0.77077224,  1.12815215,  0.62750542, -1.48298362],\n",
              "       [ 0.78809297,  1.12815215,  0.62750542,  1.81684904],\n",
              "       [ 0.80541369,  1.12815215,  0.62750542, -0.55126616],\n",
              "       [ 0.82273442, -0.88640526,  0.62750542,  0.92395314],\n",
              "       [ 0.84005514, -0.88640526,  0.66567484, -1.09476801],\n",
              "       [ 0.85737587,  1.12815215,  0.66567484,  1.54509812],\n",
              "       [ 0.87469659,  1.12815215,  0.66567484, -1.28887582],\n",
              "       [ 0.89201732,  1.12815215,  0.66567484,  1.46745499],\n",
              "       [ 0.90933804, -0.88640526,  0.66567484, -1.17241113],\n",
              "       [ 0.92665877, -0.88640526,  0.66567484,  1.00159627],\n",
              "       [ 0.94397949, -0.88640526,  0.66567484, -1.32769738],\n",
              "       [ 0.96130021, -0.88640526,  0.66567484,  1.50627656],\n",
              "       [ 0.97862094,  1.12815215,  0.66567484, -1.91002079],\n",
              "       [ 0.99594166, -0.88640526,  0.66567484,  1.07923939],\n",
              "       [ 1.01326239,  1.12815215,  0.66567484, -1.91002079],\n",
              "       [ 1.03058311, -0.88640526,  0.66567484,  0.88513158],\n",
              "       [ 1.04790384, -0.88640526,  0.70384427, -0.59008772],\n",
              "       [ 1.06522456, -0.88640526,  0.70384427,  1.27334719],\n",
              "       [ 1.08254529,  1.12815215,  0.78018313, -1.75473454],\n",
              "       [ 1.09986601, -0.88640526,  0.78018313,  1.6615628 ],\n",
              "       [ 1.11718674,  1.12815215,  0.93286085, -0.93948177],\n",
              "       [ 1.13450746, -0.88640526,  0.93286085,  0.96277471],\n",
              "       [ 1.15182818,  1.12815215,  0.97103028, -1.17241113],\n",
              "       [ 1.16914891, -0.88640526,  0.97103028,  1.73920592],\n",
              "       [ 1.18646963, -0.88640526,  1.00919971, -0.90066021],\n",
              "       [ 1.20379036,  1.12815215,  1.00919971,  0.49691598],\n",
              "       [ 1.22111108,  1.12815215,  1.00919971, -1.44416206],\n",
              "       [ 1.23843181,  1.12815215,  1.00919971,  0.96277471],\n",
              "       [ 1.25575253,  1.12815215,  1.00919971, -1.56062674],\n",
              "       [ 1.27307326,  1.12815215,  1.00919971,  1.62274124],\n",
              "       [ 1.29039398, -0.88640526,  1.04736914, -1.44416206],\n",
              "       [ 1.30771471, -0.88640526,  1.04736914,  1.38981187],\n",
              "       [ 1.32503543,  1.12815215,  1.04736914, -1.36651894],\n",
              "       [ 1.34235616,  1.12815215,  1.04736914,  0.72984534],\n",
              "       [ 1.35967688,  1.12815215,  1.23821628, -1.4053405 ],\n",
              "       [ 1.3769976 ,  1.12815215,  1.23821628,  1.54509812],\n",
              "       [ 1.39431833, -0.88640526,  1.390894  , -0.7065524 ],\n",
              "       [ 1.41163905, -0.88640526,  1.390894  ,  1.38981187],\n",
              "       [ 1.42895978,  1.12815215,  1.42906343, -1.36651894],\n",
              "       [ 1.4462805 , -0.88640526,  1.42906343,  1.46745499],\n",
              "       [ 1.46360123, -0.88640526,  1.46723286, -0.43480148],\n",
              "       [ 1.48092195,  1.12815215,  1.46723286,  1.81684904],\n",
              "       [ 1.49824268, -0.88640526,  1.54357172, -1.01712489],\n",
              "       [ 1.5155634 ,  1.12815215,  1.54357172,  0.69102378],\n",
              "       [ 1.53288413, -0.88640526,  1.61991057, -1.28887582],\n",
              "       [ 1.55020485, -0.88640526,  1.61991057,  1.35099031],\n",
              "       [ 1.56752558, -0.88640526,  1.61991057, -1.05594645],\n",
              "       [ 1.5848463 , -0.88640526,  1.61991057,  0.72984534],\n",
              "       [ 1.60216702,  1.12815215,  2.00160487, -1.63826986],\n",
              "       [ 1.61948775, -0.88640526,  2.00160487,  1.58391968],\n",
              "       [ 1.63680847, -0.88640526,  2.26879087, -1.32769738],\n",
              "       [ 1.6541292 , -0.88640526,  2.26879087,  1.11806095],\n",
              "       [ 1.67144992, -0.88640526,  2.49780745, -0.86183865],\n",
              "       [ 1.68877065,  1.12815215,  2.49780745,  0.92395314],\n",
              "       [ 1.70609137,  1.12815215,  2.91767117, -1.25005425],\n",
              "       [ 1.7234121 ,  1.12815215,  2.91767117,  1.27334719]])"
            ]
          },
          "execution_count": 279,
          "metadata": {},
          "output_type": "execute_result"
        }
      ],
      "source": [
        "object1 = StandardScaler()\n",
        "scale = object1.fit_transform(X) \n",
        "scale"
      ]
    },
    {
      "cell_type": "code",
      "execution_count": null,
      "id": "bc634b3f",
      "metadata": {
        "id": "bc634b3f",
        "outputId": "a01a93a9-0eac-4784-c2aa-d2ac51324246"
      },
      "outputs": [
        {
          "data": {
            "text/html": [
              "<div>\n",
              "<style scoped>\n",
              "    .dataframe tbody tr th:only-of-type {\n",
              "        vertical-align: middle;\n",
              "    }\n",
              "\n",
              "    .dataframe tbody tr th {\n",
              "        vertical-align: top;\n",
              "    }\n",
              "\n",
              "    .dataframe thead th {\n",
              "        text-align: right;\n",
              "    }\n",
              "</style>\n",
              "<table border=\"1\" class=\"dataframe\">\n",
              "  <thead>\n",
              "    <tr style=\"text-align: right;\">\n",
              "      <th></th>\n",
              "      <th>CustomerID</th>\n",
              "      <th>Gender</th>\n",
              "      <th>Annual Income (k$)</th>\n",
              "      <th>Spending Score (1-100)</th>\n",
              "    </tr>\n",
              "  </thead>\n",
              "  <tbody>\n",
              "    <tr>\n",
              "      <th>0</th>\n",
              "      <td>-1.723412</td>\n",
              "      <td>1.128152</td>\n",
              "      <td>-1.738999</td>\n",
              "      <td>-0.434801</td>\n",
              "    </tr>\n",
              "    <tr>\n",
              "      <th>1</th>\n",
              "      <td>-1.706091</td>\n",
              "      <td>1.128152</td>\n",
              "      <td>-1.738999</td>\n",
              "      <td>1.195704</td>\n",
              "    </tr>\n",
              "    <tr>\n",
              "      <th>2</th>\n",
              "      <td>-1.688771</td>\n",
              "      <td>-0.886405</td>\n",
              "      <td>-1.700830</td>\n",
              "      <td>-1.715913</td>\n",
              "    </tr>\n",
              "    <tr>\n",
              "      <th>3</th>\n",
              "      <td>-1.671450</td>\n",
              "      <td>-0.886405</td>\n",
              "      <td>-1.700830</td>\n",
              "      <td>1.040418</td>\n",
              "    </tr>\n",
              "    <tr>\n",
              "      <th>4</th>\n",
              "      <td>-1.654129</td>\n",
              "      <td>-0.886405</td>\n",
              "      <td>-1.662660</td>\n",
              "      <td>-0.395980</td>\n",
              "    </tr>\n",
              "    <tr>\n",
              "      <th>...</th>\n",
              "      <td>...</td>\n",
              "      <td>...</td>\n",
              "      <td>...</td>\n",
              "      <td>...</td>\n",
              "    </tr>\n",
              "    <tr>\n",
              "      <th>195</th>\n",
              "      <td>1.654129</td>\n",
              "      <td>-0.886405</td>\n",
              "      <td>2.268791</td>\n",
              "      <td>1.118061</td>\n",
              "    </tr>\n",
              "    <tr>\n",
              "      <th>196</th>\n",
              "      <td>1.671450</td>\n",
              "      <td>-0.886405</td>\n",
              "      <td>2.497807</td>\n",
              "      <td>-0.861839</td>\n",
              "    </tr>\n",
              "    <tr>\n",
              "      <th>197</th>\n",
              "      <td>1.688771</td>\n",
              "      <td>1.128152</td>\n",
              "      <td>2.497807</td>\n",
              "      <td>0.923953</td>\n",
              "    </tr>\n",
              "    <tr>\n",
              "      <th>198</th>\n",
              "      <td>1.706091</td>\n",
              "      <td>1.128152</td>\n",
              "      <td>2.917671</td>\n",
              "      <td>-1.250054</td>\n",
              "    </tr>\n",
              "    <tr>\n",
              "      <th>199</th>\n",
              "      <td>1.723412</td>\n",
              "      <td>1.128152</td>\n",
              "      <td>2.917671</td>\n",
              "      <td>1.273347</td>\n",
              "    </tr>\n",
              "  </tbody>\n",
              "</table>\n",
              "<p>200 rows × 4 columns</p>\n",
              "</div>"
            ],
            "text/plain": [
              "     CustomerID    Gender  Annual Income (k$)  Spending Score (1-100)\n",
              "0     -1.723412  1.128152           -1.738999               -0.434801\n",
              "1     -1.706091  1.128152           -1.738999                1.195704\n",
              "2     -1.688771 -0.886405           -1.700830               -1.715913\n",
              "3     -1.671450 -0.886405           -1.700830                1.040418\n",
              "4     -1.654129 -0.886405           -1.662660               -0.395980\n",
              "..          ...       ...                 ...                     ...\n",
              "195    1.654129 -0.886405            2.268791                1.118061\n",
              "196    1.671450 -0.886405            2.497807               -0.861839\n",
              "197    1.688771  1.128152            2.497807                0.923953\n",
              "198    1.706091  1.128152            2.917671               -1.250054\n",
              "199    1.723412  1.128152            2.917671                1.273347\n",
              "\n",
              "[200 rows x 4 columns]"
            ]
          },
          "execution_count": 280,
          "metadata": {},
          "output_type": "execute_result"
        }
      ],
      "source": [
        "X_scaled  = pd.DataFrame(scale, columns = X.columns)\n",
        "X_scaled"
      ]
    },
    {
      "cell_type": "code",
      "execution_count": null,
      "id": "dff05ddf",
      "metadata": {
        "id": "dff05ddf",
        "outputId": "38b86253-b962-414d-c2b5-b9c4d194093a"
      },
      "outputs": [
        {
          "ename": "SyntaxError",
          "evalue": "unexpected EOF while parsing (3559190390.py, line 1)",
          "output_type": "error",
          "traceback": [
            "\u001b[1;36m  Input \u001b[1;32mIn [281]\u001b[1;36m\u001b[0m\n\u001b[1;33m    X_train, X_test, Y_train, Y_test = train_test_split(X_scaled, Y, test_size=0.20, random_state=0\u001b[0m\n\u001b[1;37m                                                                                                   ^\u001b[0m\n\u001b[1;31mSyntaxError\u001b[0m\u001b[1;31m:\u001b[0m unexpected EOF while parsing\n"
          ]
        }
      ],
      "source": [
        "X_train, X_test, Y_train, Y_test = train_test_split(X_scaled, Y, test_size=0.20, random_state=0"
      ]
    },
    {
      "cell_type": "markdown",
      "id": "4d281e84",
      "metadata": {
        "id": "4d281e84"
      },
      "source": [
        "## 9. Perform any of the clustering algorithms"
      ]
    },
    {
      "cell_type": "code",
      "execution_count": null,
      "id": "66c1411d",
      "metadata": {
        "id": "66c1411d"
      },
      "outputs": [],
      "source": [
        "from sklearn.cluster import KMeans"
      ]
    },
    {
      "cell_type": "code",
      "execution_count": null,
      "id": "85b33843",
      "metadata": {
        "id": "85b33843"
      },
      "outputs": [],
      "source": [
        "x = file_data.iloc[:, [3, 4]].values "
      ]
    },
    {
      "cell_type": "code",
      "execution_count": null,
      "id": "37548e4f",
      "metadata": {
        "id": "37548e4f"
      },
      "outputs": [],
      "source": [
        "list= []  \n",
        "   \n",
        "for i in range(1, 11):  \n",
        "    kmeans = KMeans(n_clusters=i, init='k-means++', random_state= 42)  \n",
        "    kmeans.fit(x)  \n",
        "    list.append(kmeans.inertia_)  \n",
        "plt.plot(range(1, 11), list)  \n",
        "plt.title('The Elobw Method Graph')  \n",
        "plt.xlabel('Number of clusters(k)')  \n",
        "plt.ylabel('wcss_list')  \n",
        "plt.show()  "
      ]
    },
    {
      "cell_type": "code",
      "execution_count": null,
      "id": "620cb2c0",
      "metadata": {
        "id": "620cb2c0"
      },
      "outputs": [],
      "source": [
        "kmeans = KMeans(n_clusters=5, init='k-means++', random_state= 42)  \n",
        "y_predict= kmeans.fit_predict(x) "
      ]
    },
    {
      "cell_type": "code",
      "execution_count": null,
      "id": "c5212248",
      "metadata": {
        "id": "c5212248"
      },
      "outputs": [],
      "source": [
        "plt.scatter(x[y_predict == 0, 0], x[y_predict == 0, 1], s = 100, c = 'blue', label = 'Cluster 1') #for first cluster  \n",
        "plt.scatter(x[y_predict == 1, 0], x[y_predict == 1, 1], s = 100, c = 'green', label = 'Cluster 2') #for second cluster  \n",
        "plt.scatter(x[y_predict== 2, 0], x[y_predict == 2, 1], s = 100, c = 'red', label = 'Cluster 3') #for third cluster  \n",
        "plt.scatter(x[y_predict == 3, 0], x[y_predict == 3, 1], s = 100, c = 'cyan', label = 'Cluster 4') #for fourth cluster  \n",
        "plt.scatter(x[y_predict == 4, 0], x[y_predict == 4, 1], s = 100, c = 'magenta', label = 'Cluster 5') #for fifth cluster  \n",
        "plt.scatter(kmeans.cluster_centers_[:, 0], kmeans.cluster_centers_[:, 1], s = 300, c = 'yellow', label = 'Centroid')   \n",
        "plt.title('Clusters of customers')  \n",
        "plt.xlabel('Annual Income (k$)')  \n",
        "plt.ylabel('Spending Score (1-100)')  \n",
        "plt.legend()  \n",
        "plt.show() "
      ]
    },
    {
      "cell_type": "markdown",
      "id": "fe9ce4d2",
      "metadata": {
        "id": "fe9ce4d2"
      },
      "source": [
        "## 10. Add the cluster data with the primary dataset"
      ]
    },
    {
      "cell_type": "code",
      "execution_count": null,
      "id": "f3e80cc1",
      "metadata": {
        "id": "f3e80cc1"
      },
      "outputs": [],
      "source": [
        "file_data['Cluster']=kmeans.labels_\n",
        "file_data.head()"
      ]
    },
    {
      "cell_type": "code",
      "execution_count": null,
      "id": "b94f2759",
      "metadata": {
        "id": "b94f2759"
      },
      "outputs": [],
      "source": [
        "file_data.tail()"
      ]
    },
    {
      "cell_type": "markdown",
      "id": "d26d116f",
      "metadata": {
        "id": "d26d116f"
      },
      "source": [
        "## 11. Split the data into dependent and independent variables."
      ]
    },
    {
      "cell_type": "code",
      "execution_count": null,
      "id": "17b84fb5",
      "metadata": {
        "id": "17b84fb5"
      },
      "outputs": [],
      "source": [
        "X=file_data.drop('Cluster',axis=1)\n",
        "Y=file_data['Cluster']\n",
        "y=file_data['Cluster']\n",
        "y"
      ]
    },
    {
      "cell_type": "code",
      "execution_count": null,
      "id": "e3b32cdb",
      "metadata": {
        "id": "e3b32cdb"
      },
      "outputs": [],
      "source": [
        "from sklearn.model_selection import train_test_split\n",
        "X_train,X_test,y_train,y_test=train_test_split(X,Y,test_size=0.2,random_state=42)"
      ]
    },
    {
      "cell_type": "code",
      "execution_count": null,
      "id": "7983c9a5",
      "metadata": {
        "id": "7983c9a5"
      },
      "outputs": [],
      "source": [
        "X_train.shape"
      ]
    },
    {
      "cell_type": "code",
      "execution_count": null,
      "id": "a4db9290",
      "metadata": {
        "id": "a4db9290"
      },
      "outputs": [],
      "source": [
        "y_train.shape"
      ]
    },
    {
      "cell_type": "markdown",
      "id": "99d60f24",
      "metadata": {
        "id": "99d60f24"
      },
      "source": [
        "## 12. Split the data into training and testing"
      ]
    },
    {
      "cell_type": "code",
      "execution_count": null,
      "id": "1e13083b",
      "metadata": {
        "id": "1e13083b"
      },
      "outputs": [],
      "source": [
        "X_train"
      ]
    },
    {
      "cell_type": "code",
      "execution_count": null,
      "id": "e0c45a50",
      "metadata": {
        "id": "e0c45a50"
      },
      "outputs": [],
      "source": [
        "X_test"
      ]
    },
    {
      "cell_type": "code",
      "execution_count": null,
      "id": "0f2b7fe1",
      "metadata": {
        "id": "0f2b7fe1"
      },
      "outputs": [],
      "source": [
        "y_train"
      ]
    },
    {
      "cell_type": "code",
      "execution_count": null,
      "id": "ff986759",
      "metadata": {
        "id": "ff986759"
      },
      "outputs": [],
      "source": [
        "y_test"
      ]
    },
    {
      "cell_type": "markdown",
      "id": "44b694ca",
      "metadata": {
        "id": "44b694ca"
      },
      "source": [
        "## 13. Build the Model"
      ]
    },
    {
      "cell_type": "code",
      "execution_count": null,
      "id": "b2554367",
      "metadata": {
        "id": "b2554367"
      },
      "outputs": [],
      "source": [
        "from sklearn.linear_model import LogisticRegression\n",
        "model=LogisticRegression()\n",
        "model.fit(X_train,y_train)"
      ]
    },
    {
      "cell_type": "markdown",
      "id": "e7a53735",
      "metadata": {
        "id": "e7a53735"
      },
      "source": [
        "## 14. Train the Model"
      ]
    },
    {
      "cell_type": "code",
      "execution_count": null,
      "id": "d8117b50",
      "metadata": {
        "id": "d8117b50"
      },
      "outputs": [],
      "source": [
        "model.score(X_train,y_train)"
      ]
    },
    {
      "cell_type": "markdown",
      "id": "35bf074b",
      "metadata": {
        "id": "35bf074b"
      },
      "source": [
        "## 15. Test the Model"
      ]
    },
    {
      "cell_type": "code",
      "execution_count": null,
      "id": "53e2077a",
      "metadata": {
        "id": "53e2077a"
      },
      "outputs": [],
      "source": [
        "model.score(X_test,y_test)"
      ]
    },
    {
      "cell_type": "markdown",
      "id": "d266a712",
      "metadata": {
        "id": "d266a712"
      },
      "source": [
        "## 16. Measure the performance using Evaluation Metrics."
      ]
    },
    {
      "cell_type": "code",
      "execution_count": null,
      "id": "88385613",
      "metadata": {
        "id": "88385613"
      },
      "outputs": [],
      "source": [
        "from sklearn.metrics import confusion_matrix,classification_report"
      ]
    },
    {
      "cell_type": "code",
      "execution_count": null,
      "id": "d137b386",
      "metadata": {
        "id": "d137b386"
      },
      "outputs": [],
      "source": [
        "y_pred=model.predict(X_test)\n",
        "confusion_matrix(y_test,y_pred)"
      ]
    },
    {
      "cell_type": "code",
      "execution_count": null,
      "id": "0d0093a5",
      "metadata": {
        "id": "0d0093a5"
      },
      "outputs": [],
      "source": [
        "print(classification_report(y_test,y_pred))"
      ]
    }
  ],
  "metadata": {
    "kernelspec": {
      "display_name": "Python 3 (ipykernel)",
      "language": "python",
      "name": "python3"
    },
    "language_info": {
      "codemirror_mode": {
        "name": "ipython",
        "version": 3
      },
      "file_extension": ".py",
      "mimetype": "text/x-python",
      "name": "python",
      "nbconvert_exporter": "python",
      "pygments_lexer": "ipython3",
      "version": "3.9.12"
    },
    "colab": {
      "provenance": [],
      "collapsed_sections": [
        "a3053dcd",
        "4b1557ff",
        "8bcdbe83",
        "ef291891",
        "325fb611",
        "1a96a3a9",
        "7d80676d",
        "e6256b28",
        "4d281e84",
        "fe9ce4d2",
        "d26d116f",
        "99d60f24",
        "44b694ca",
        "e7a53735",
        "35bf074b",
        "d266a712"
      ]
    }
  },
  "nbformat": 4,
  "nbformat_minor": 5
}